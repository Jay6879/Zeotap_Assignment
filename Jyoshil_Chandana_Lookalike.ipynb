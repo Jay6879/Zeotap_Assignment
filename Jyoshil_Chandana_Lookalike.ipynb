{
 "cells": [
  {
   "cell_type": "code",
   "execution_count": 15,
   "id": "d3f22bce",
   "metadata": {},
   "outputs": [],
   "source": [
    "import pandas as pd\n",
    "import numpy as np\n",
    "from sklearn.preprocessing import StandardScaler\n",
    "from sklearn.metrics.pairwise import cosine_similarity"
   ]
  },
  {
   "cell_type": "code",
   "execution_count": 3,
   "id": "799d67a7",
   "metadata": {},
   "outputs": [],
   "source": [
    "#Data Preparation"
   ]
  },
  {
   "cell_type": "code",
   "execution_count": 4,
   "id": "c5432c32",
   "metadata": {},
   "outputs": [],
   "source": [
    "# Load data"
   ]
  },
  {
   "cell_type": "code",
   "execution_count": 5,
   "id": "87ddb58f",
   "metadata": {},
   "outputs": [],
   "source": [
    "customers = pd.read_csv('Customers.csv', parse_dates=['SignupDate'])\n",
    "products = pd.read_csv('Products.csv')\n",
    "transactions = pd.read_csv('Transactions.csv', parse_dates=['TransactionDate'])"
   ]
  },
  {
   "cell_type": "code",
   "execution_count": 6,
   "id": "0f596009",
   "metadata": {},
   "outputs": [],
   "source": [
    "txn_prod = transactions.merge(products, on='ProductID')"
   ]
  },
  {
   "cell_type": "code",
   "execution_count": 7,
   "id": "7f16abcd",
   "metadata": {},
   "outputs": [],
   "source": [
    "last_txn_date = transactions['TransactionDate'].max()\n",
    "customers['TenureDays'] = (last_txn_date - customers['SignupDate']).dt.days\n",
    "profile_features = pd.get_dummies(customers, columns=['Region'])"
   ]
  },
  {
   "cell_type": "code",
   "execution_count": 8,
   "id": "e2f2c8ba",
   "metadata": {},
   "outputs": [],
   "source": [
    "# Transaction behavior features\n",
    "txn_agg = transactions.groupby('CustomerID').agg(\n",
    "    TotalTransactions=('TransactionID', 'count'),\n",
    "    TotalSpend=('TotalValue', 'sum'),\n",
    "    AvgQuantity=('Quantity', 'mean'),\n",
    "    PurchaseFrequency=('TransactionDate', lambda x: (x.max() - x.min()).days)\n",
    ").reset_index()"
   ]
  },
  {
   "cell_type": "code",
   "execution_count": 9,
   "id": "93ef67f8",
   "metadata": {},
   "outputs": [],
   "source": [
    "category_pref = txn_prod.groupby(['CustomerID', 'Category']).size().unstack(fill_value=0)\n",
    "category_pref = category_pref.div(category_pref.sum(axis=1), axis=0).fillna(0)"
   ]
  },
  {
   "cell_type": "code",
   "execution_count": 10,
   "id": "d9d66d0d",
   "metadata": {},
   "outputs": [],
   "source": [
    "features = profile_features.merge(txn_agg, on='CustomerID', how='left')\\\n",
    "             .merge(category_pref, on='CustomerID', how='left')\\\n",
    "             .set_index('CustomerID').fillna(0)\\\n",
    "             .drop(['CustomerName', 'SignupDate'], axis=1)\n"
   ]
  },
  {
   "cell_type": "code",
   "execution_count": 11,
   "id": "da4dd9bd",
   "metadata": {},
   "outputs": [],
   "source": [
    "scaler = StandardScaler()\n",
    "scaled_features = scaler.fit_transform(features)\n",
    "cosine_sim = cosine_similarity(scaled_features)\n",
    "similarity_df = pd.DataFrame(cosine_sim, index=features.index, columns=features.index)"
   ]
  },
  {
   "cell_type": "code",
   "execution_count": 12,
   "id": "2505d764",
   "metadata": {},
   "outputs": [],
   "source": [
    "target_customers = [f'C{str(i+1).zfill(4)}' for i in range(20)]\n",
    "lookalike_mapping = {}\n",
    "\n",
    "for customer in target_customers:\n",
    "    sim_scores = similarity_df.loc[customer].sort_values(ascending=False).drop(customer).head(3)\n",
    "    lookalike_mapping[customer] = list(zip(sim_scores.index, np.round(sim_scores.values, 2)))"
   ]
  },
  {
   "cell_type": "code",
   "execution_count": 13,
   "id": "898928bd",
   "metadata": {},
   "outputs": [
    {
     "name": "stdout",
     "output_type": "stream",
     "text": [
      "Lookalike model results saved successfully!\n"
     ]
    }
   ],
   "source": [
    "output_data = []\n",
    "for cust_id, matches in lookalike_mapping.items():\n",
    "    formatted_matches = ','.join([f\"({match[0]},{match[1]})\" for match in matches])\n",
    "    output_data.append({'CustomerID': cust_id, 'Lookalikes': formatted_matches})\n",
    "\n",
    "pd.DataFrame(output_data).to_csv('Lookalike.csv', index=False)\n",
    "print(\"Lookalike model results saved successfully!\")"
   ]
  },
  {
   "cell_type": "code",
   "execution_count": 14,
   "id": "97bc65f5",
   "metadata": {},
   "outputs": [
    {
     "name": "stdout",
     "output_type": "stream",
     "text": [
      "  CustomerID                              Lookalikes\n",
      "0      C0001  (C0118,0.74),(C0168,0.74),(C0120,0.74)\n",
      "1      C0002   (C0159,0.94),(C0134,0.92),(C0106,0.9)\n",
      "2      C0003  (C0129,0.89),(C0151,0.81),(C0031,0.79)\n"
     ]
    }
   ],
   "source": [
    "# Quick check of results\n",
    "print(pd.read_csv('Lookalike.csv').head(3))"
   ]
  },
  {
   "cell_type": "code",
   "execution_count": null,
   "id": "9e2072e6",
   "metadata": {},
   "outputs": [],
   "source": []
  }
 ],
 "metadata": {
  "kernelspec": {
   "display_name": "Python 3 (ipykernel)",
   "language": "python",
   "name": "python3"
  },
  "language_info": {
   "codemirror_mode": {
    "name": "ipython",
    "version": 3
   },
   "file_extension": ".py",
   "mimetype": "text/x-python",
   "name": "python",
   "nbconvert_exporter": "python",
   "pygments_lexer": "ipython3",
   "version": "3.11.4"
  }
 },
 "nbformat": 4,
 "nbformat_minor": 5
}
