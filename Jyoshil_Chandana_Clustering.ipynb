{
 "cells": [
  {
   "cell_type": "code",
   "execution_count": 18,
   "id": "7227b0e7",
   "metadata": {},
   "outputs": [],
   "source": [
    "# Customer Segmentation using K-Means Clustering\n",
    "\n",
    "## 1. Data Preparation\n",
    "##Load and merge customer, transaction, and product data.*\n",
    "\n",
    "## 2. Feature Engineering\n",
    "##Create meaningful features from the raw data to capture customer profiles, transaction behaviors, and product preferences.*\n",
    "\n",
    "## 3. Data Preprocessing\n",
    "##Standardize the features to ensure they contribute equally to the clustering algorithm.*\n",
    "\n",
    "## 4. Determine Optimal Clusters\n",
    "##Use the Davies-Bouldin Index and Silhouette Score to identify the optimal number of clusters.*\n",
    "\n",
    "## 5. Final Clustering\n",
    "##Apply K-Means clustering with the optimal number of clusters and assign cluster labels to each customer.*\n",
    "\n",
    "## 6. Visualization\n",
    "##Reduce dimensionality using PCA and visualize the customer segments in a 2D space.*\n",
    "\n",
    "## 7. Cluster Analysis\n",
    "##Analyze the characteristics of each cluster to understand the distinct customer segments.*\n",
    "\n",
    "## 8. Save Results & Metrics (Optional)\n",
    "##Optionally save the clustering report and visualization for future reference.*\n"
   ]
  },
  {
   "cell_type": "code",
   "execution_count": 1,
   "id": "9561cbbf",
   "metadata": {},
   "outputs": [],
   "source": [
    "import pandas as pd\n",
    "import numpy as np\n",
    "import matplotlib.pyplot as plt\n",
    "from sklearn.preprocessing import StandardScaler\n",
    "from sklearn.decomposition import PCA\n",
    "from sklearn.cluster import KMeans\n",
    "from sklearn.metrics import davies_bouldin_score, silhouette_score"
   ]
  },
  {
   "cell_type": "code",
   "execution_count": 2,
   "id": "ba91556d",
   "metadata": {},
   "outputs": [],
   "source": [
    "customers = pd.read_csv('Customers.csv', parse_dates=['SignupDate'])\n",
    "transactions = pd.read_csv('Transactions.csv', parse_dates=['TransactionDate'])\n",
    "products = pd.read_csv('Products.csv')"
   ]
  },
  {
   "cell_type": "code",
   "execution_count": 4,
   "id": "1250e688",
   "metadata": {},
   "outputs": [],
   "source": [
    "merged_data = transactions.merge(customers, on='CustomerID').merge(products, on='ProductID')"
   ]
  },
  {
   "cell_type": "code",
   "execution_count": 5,
   "id": "f85a614f",
   "metadata": {},
   "outputs": [],
   "source": [
    "last_date = transactions['TransactionDate'].max()\n",
    "customers['Tenure'] = (last_date - customers['SignupDate']).dt.days\n",
    "profile_features = pd.get_dummies(customers[['CustomerID', 'Region', 'Tenure']], \n",
    "                                columns=['Region'])"
   ]
  },
  {
   "cell_type": "code",
   "execution_count": 6,
   "id": "2c727de0",
   "metadata": {},
   "outputs": [],
   "source": [
    "transaction_features = transactions.groupby('CustomerID').agg(\n",
    "    Total_Transactions=('TransactionID', 'count'),\n",
    "    Total_Spend=('TotalValue', 'sum'),\n",
    "    Avg_Quantity=('Quantity', 'mean'),\n",
    "    Purchase_Frequency=('TransactionDate', lambda x: (x.max() - x.min()).days)\n",
    ").reset_index()"
   ]
  },
  {
   "cell_type": "code",
   "execution_count": 7,
   "id": "73f327fd",
   "metadata": {},
   "outputs": [],
   "source": [
    "category_features = merged_data.groupby(['CustomerID', 'Category']).size()\\\n",
    "                        .unstack(fill_value=0).reset_index()\n",
    "\n",
    "# Combine all features\n",
    "final_features = profile_features.merge(transaction_features, on='CustomerID')\\\n",
    "                   .merge(category_features, on='CustomerID')\\\n",
    "                   .set_index('CustomerID').fillna(0)\n"
   ]
  },
  {
   "cell_type": "code",
   "execution_count": 8,
   "id": "748b3f09",
   "metadata": {},
   "outputs": [],
   "source": [
    "scaler = StandardScaler()\n",
    "scaled_data = scaler.fit_transform(final_features)"
   ]
  },
  {
   "cell_type": "code",
   "execution_count": 11,
   "id": "aa01827b",
   "metadata": {},
   "outputs": [],
   "source": [
    "db_scores = []\n",
    "silhouette_scores = []\n",
    "k_values = range(2, 11)\n",
    "\n",
    "for k in k_values:\n",
    "    kmeans = KMeans(n_clusters=k, random_state=42, n_init=10)\n",
    "    clusters = kmeans.fit_predict(scaled_data)\n",
    "    db_scores.append(davies_bouldin_score(scaled_data, clusters))\n",
    "    silhouette_scores.append(silhouette_score(scaled_data, clusters))"
   ]
  },
  {
   "cell_type": "code",
   "execution_count": 12,
   "id": "b7cfae90",
   "metadata": {},
   "outputs": [],
   "source": [
    "optimal_k = k_values[np.argmin(db_scores)]"
   ]
  },
  {
   "cell_type": "code",
   "execution_count": 13,
   "id": "5ca031bd",
   "metadata": {},
   "outputs": [],
   "source": [
    "final_model = KMeans(n_clusters=optimal_k, random_state=42, n_init=10)\n",
    "clusters = final_model.fit_predict(scaled_data)\n",
    "final_features['Cluster'] = clusters"
   ]
  },
  {
   "cell_type": "code",
   "execution_count": 14,
   "id": "058ed2dc",
   "metadata": {},
   "outputs": [],
   "source": [
    "pca = PCA(n_components=2)\n",
    "pca_features = pca.fit_transform(scaled_data)\n",
    "\n",
    "plt.figure(figsize=(10,6))\n",
    "scatter = plt.scatter(pca_features[:,0], pca_features[:,1], c=clusters, cmap='viridis')\n",
    "plt.title(f'Customer Segments (k={optimal_k})', fontsize=14)\n",
    "plt.xlabel('PCA Component 1', fontsize=12)\n",
    "plt.ylabel('PCA Component 2', fontsize=12)\n",
    "plt.legend(*scatter.legend_elements(), title='Clusters')\n",
    "plt.grid(alpha=0.3)\n",
    "plt.savefig('clusters_visualization.png', bbox_inches='tight')\n",
    "plt.close()"
   ]
  },
  {
   "cell_type": "code",
   "execution_count": 15,
   "id": "e4d1644f",
   "metadata": {},
   "outputs": [],
   "source": [
    "cluster_profile = final_features.groupby('Cluster').mean()"
   ]
  },
  {
   "cell_type": "code",
   "execution_count": 16,
   "id": "cfce8eac",
   "metadata": {},
   "outputs": [
    {
     "name": "stdout",
     "output_type": "stream",
     "text": [
      "Clustering analysis completed successfully!\n"
     ]
    }
   ],
   "source": [
    "with open('Clustering_Report.txt', 'w') as f:\n",
    "    f.write(f\"Clustering Metrics:\\n\")\n",
    "    f.write(f\"Optimal Clusters: {optimal_k}\\n\")\n",
    "    f.write(f\"Davies-Bouldin Index: {db_scores[optimal_k-2]:.3f}\\n\")\n",
    "    f.write(f\"Silhouette Score: {silhouette_scores[optimal_k-2]:.3f}\\n\\n\")\n",
    "    \n",
    "    f.write(\"Cluster Characteristics:\\n\")\n",
    "    f.write(str(cluster_profile))\n",
    "\n",
    "print(\"Clustering analysis completed successfully!\")"
   ]
  },
  {
   "cell_type": "code",
   "execution_count": null,
   "id": "b2bf7444",
   "metadata": {},
   "outputs": [],
   "source": [
    "Clustering Metrics:\n",
    "Optimal Clusters: 6\n",
    "Davies-Bouldin Index: 1.539\n",
    "Silhouette Score: 0.207\n",
    "\n",
    "Cluster Characteristics:\n",
    "             Tenure  Region_Asia  Region_Europe  Region_North America  \\\n",
    "Cluster                                                                 \n",
    "0        614.750000     0.541667       0.083333              0.125000   \n",
    "1        596.940000     0.000000       0.000000              0.000000   \n",
    "2        403.235294     0.411765       0.176471              0.235294   \n",
    "3        531.511111     0.000000       1.000000              0.000000   \n",
    "4        424.538462     0.000000       0.000000              1.000000   \n",
    "5        548.666667     1.000000       0.000000              0.000000   \n",
    "\n",
    "         Region_South America  Total_Transactions  Total_Spend  Avg_Quantity  \\\n",
    "Cluster                                                                        \n",
    "0                    0.250000            8.416667  6176.439583      2.668013   \n",
    "1                    1.000000            5.080000  3573.492200      2.543825   \n",
    "2                    0.176471            1.294118   743.462941      2.323529   \n",
    "3                    0.000000            4.688889  3297.754222      2.545423   \n",
    "4                    0.000000            5.358974  3345.774615      2.442949   \n",
    "5                    0.000000            4.250000  2981.807500      2.628571   \n",
    "\n",
    "         Purchase_Frequency     Books  Clothing  Electronics  Home Decor  \n",
    "Cluster                                                                   \n",
    "0                283.333333  2.166667  2.500000     2.625000    1.125000  \n",
    "1                243.480000  1.520000  0.900000     1.280000    1.380000  \n",
    "2                 17.823529  0.117647  0.294118     0.235294    0.647059  \n",
    "3                227.977778  1.311111  0.911111     1.155556    1.311111  \n",
    "4                245.128205  1.435897  1.230769     1.256410    1.435897  \n",
    "5                232.041667  1.041667  1.208333     0.916667    1.083333  "
   ]
  }
 ],
 "metadata": {
  "kernelspec": {
   "display_name": "Python 3 (ipykernel)",
   "language": "python",
   "name": "python3"
  },
  "language_info": {
   "codemirror_mode": {
    "name": "ipython",
    "version": 3
   },
   "file_extension": ".py",
   "mimetype": "text/x-python",
   "name": "python",
   "nbconvert_exporter": "python",
   "pygments_lexer": "ipython3",
   "version": "3.11.4"
  }
 },
 "nbformat": 4,
 "nbformat_minor": 5
}
